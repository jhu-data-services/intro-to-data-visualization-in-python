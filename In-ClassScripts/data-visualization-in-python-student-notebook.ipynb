{
 "cells": [
  {
   "cell_type": "markdown",
   "id": "awful-telescope",
   "metadata": {
    "slideshow": {
     "slide_type": "slide"
    }
   },
   "source": [
    "# Introduction to Data Visualization in Python\n",
    "## [dataservices.library.jhu.edu](https://dataservices.library.jhu.edu/)\n",
    "### Pete Lawson and Srinithi Srinivasan, JHU Data Services\n",
    "### Date: November 16, 2021\n",
    "This course will introduce data visualization in Python with the libraries `matplotlib` and `seaborn`."
   ]
  },
  {
   "cell_type": "markdown",
   "id": "7ab7a29c",
   "metadata": {
    "slideshow": {
     "slide_type": "skip"
    }
   },
   "source": [
    "----\n",
    "## Table of Contents\n",
    "\n",
    "#### Introduction\n",
    "[Software and materials](#Software-and-materials)   \n",
    "[Prerequisites](#Prerequisites:)   \n",
    "[Learning objectives](#Learning-Objectives)   \n",
    "\n",
    "#### Section 1: Matplotlib\n",
    "[Introduction to Matplotlib](#Introduction-to-Matplotlib)<br>\n",
    "[Exercise 1: Plotting a Line](#Exercise-1:-Plot-a-Lineplot-with-Matplotlib)<br>\n",
    "[Palmer Penguns Dataset](#Meet-the-Penguins!)<br>\n",
    "[Scatter Plots in Pyplot](#Let's-make-a-scatter-plot-comparing-bill-length-to-bill-depth)<br>\n",
    "[Exercise 2: Plot a Scatterplot Comparing Bill Length to Depth](#Exercise-2:-Plot-a-Scatterplot-Comparing-Bill-Length-to-Bill-Depth)<br>\n",
    "[Matplotlib Object Oriented Interface](#Matplotlib-Object-Oriented-Interface)\n",
    "\n",
    "#### Section 2: Seaborn\n",
    "[Introduction to Seaborn](#Introduction-to-Seaborn)<br>\n",
    "[Replicate our Scatterplot in Seaborn](#Seaborn-Scatterplot)<br>\n",
    "[Seaborn Regression Plot](#Seaborn-Regression-Plot)<br>\n",
    "[Seaborn Joint Plot](#Seaborn-Joint-Plot)"
   ]
  },
  {
   "cell_type": "markdown",
   "id": "711496e7",
   "metadata": {
    "slideshow": {
     "slide_type": "subslide"
    }
   },
   "source": [
    "## Software and materials   \n",
    "\n",
    "- Jupyter Notebook ([Anaconda distribution](https://www.anaconda.com/products/individual) recommended)   \n",
    "    - Please install the following libraries:\n",
    "        - `seaborn` \n",
    "        - `matplotlib`\n",
    "        - `palmerpenguins`\n",
    "- [Zip folder](https://github.com/jhu-data-services/intro-to-data-visualization-in-python/archive/refs/heads/main.zip) containing:\n",
    "    - data-visualization-in-python.ipynb"
   ]
  },
  {
   "cell_type": "markdown",
   "id": "4ed9a85c",
   "metadata": {
    "slideshow": {
     "slide_type": "subslide"
    }
   },
   "source": [
    "## Prerequisites:\n",
    "\n",
    "- Knowledge of basic programming concepts\n",
    "    - Data types\n",
    "    - Variable assignment\n",
    "    - Function calls\n",
    "- Introductory experience in Python or R (like Data Services' Intro to Python or Intro to R workshops)"
   ]
  },
  {
   "cell_type": "markdown",
   "id": "suitable-surveillance",
   "metadata": {
    "slideshow": {
     "slide_type": "skip"
    }
   },
   "source": [
    "## Learning Objectives\n",
    "<div class=\"alert alert-block alert-warning\">\n",
    "    <b>Learning Obectives:</b>\n",
    "    <br>\n",
    "    <ol type=\"1\">\n",
    "        <li>Understand different plotting libraries in Python, and which is appropriate when.</li>\n",
    "        <li>Understand difference between pyplot imperative syntax (state-based interface) and Object-Oriented syntax.</li>\n",
    "        <li>Be able to perform a simple visualization using provided data in both Matplotlib and Seaborn.</li>\n",
    "        <li>Be able to apply some recommended practives for data visualization to plots in Matplotlib and Seaborn.</li>\n",
    "    </ol>\n",
    "</div>"
   ]
  },
  {
   "cell_type": "markdown",
   "id": "executive-cache",
   "metadata": {
    "slideshow": {
     "slide_type": "slide"
    }
   },
   "source": [
    "## Introduction to Matplotlib\n",
    "`matplotlib` is a Python library for producing publication-quality figures.\n",
    "\n",
    "There are two interfaces to `matplotlib`;\n",
    "1. ``matplotlib.pyplot`` and \n",
    "2. An *Object Oriented* interface."
   ]
  },
  {
   "cell_type": "markdown",
   "id": "ab99cab7",
   "metadata": {
    "slideshow": {
     "slide_type": "subslide"
    }
   },
   "source": [
    "The `pyplot` interface provides a simpler (but less flexible) means of interfacing with `matplotlib`. \n",
    "\n",
    "We will explore the `pyplot` interface first, identify some of its limitations, and then explore the addtional flexibility and functionality provided by the *Object Oriented* interface."
   ]
  },
  {
   "cell_type": "markdown",
   "id": "digital-preference",
   "metadata": {
    "slideshow": {
     "slide_type": "subslide"
    }
   },
   "source": [
    "### Importing `matplotlib.pyplot`"
   ]
  },
  {
   "cell_type": "code",
   "execution_count": 1,
   "id": "greek-capacity",
   "metadata": {
    "slideshow": {
     "slide_type": "subslide"
    }
   },
   "outputs": [],
   "source": [
    "#This allows us to display our plots inline in our Jupyter Notebook\n",
    "%matplotlib inline\n",
    "\n",
    "import matplotlib.pyplot as plt\n"
   ]
  },
  {
   "cell_type": "markdown",
   "id": "5cbd8572",
   "metadata": {
    "slideshow": {
     "slide_type": "subslide"
    }
   },
   "source": [
    "`matplotlib.pyplot` is a collection of functions, known as a submodule, that make `matplotlib` work like the `MATLAB` `plot` function. We import `matplotlib.pyplot` to the alias `plt` as a matter of common convention."
   ]
  },
  {
   "cell_type": "markdown",
   "id": "b7594839",
   "metadata": {
    "slideshow": {
     "slide_type": "subslide"
    }
   },
   "source": [
    "Each pyplot function makes some change to a figure, for example: \n",
    "- creates a figure\n",
    "- creates a plotting area in a figure \n",
    "- plots some lines or points in a plotting area\n",
    "- decorates the plot labels"
   ]
  },
  {
   "cell_type": "markdown",
   "id": "7fa66fad",
   "metadata": {
    "slideshow": {
     "slide_type": "subslide"
    }
   },
   "source": [
    "### Lets make a simple line-plot:"
   ]
  },
  {
   "cell_type": "markdown",
   "id": "british-fight",
   "metadata": {
    "slideshow": {
     "slide_type": "skip"
    }
   },
   "source": [
    "<div class=\"alert alert-block alert-info\"><b>Tip:</b> The syntax below for our <code>y</code> list might look a little strange. Instead of adding values to a list, we put in an expression that populates the list. This technique is called <b>list comprehension</b> and it makes it much easier to populate a list with a function. <br><br>The simplist list expression looks like <code>[<i>expression</i> for <i>value</i> in <i>collection</i>]</code>. <br><br>The <i>expression</i> is a function, in our case <code>val ** 2</code>, where each <code>val</code> is squared. The <i>expression</i> generates the elements in the list by evaluating the expression for every <i>value</i> in the <i>collection</i>, in this case the list <code>x</code>. So in our example the new list is created by squaring every element in the list <code>x</code>.</div>"
   ]
  },
  {
   "cell_type": "code",
   "execution_count": 2,
   "id": "institutional-adapter",
   "metadata": {
    "slideshow": {
     "slide_type": "subslide"
    }
   },
   "outputs": [],
   "source": [
    "x_values = [1, 2, 3, 4, 5]\n",
    "y_values = [val ** 2 for val in x_values]"
   ]
  },
  {
   "cell_type": "markdown",
   "id": "neural-thanks",
   "metadata": {
    "slideshow": {
     "slide_type": "skip"
    }
   },
   "source": [
    "Note that each x-value is squared, so $1^{2}=1$, $2^{2}=4$, $3^{2}=9$ and so on."
   ]
  },
  {
   "cell_type": "markdown",
   "id": "054e0a95",
   "metadata": {
    "slideshow": {
     "slide_type": "subslide"
    }
   },
   "source": [
    "The syntax for the `pyplot` plot function is:\n",
    "\n",
    "`plt.plot(x, y)` where `x` and `y` are your x and y-values respectively. \n",
    "\n",
    "We imported `import matplotlib.pyplot as plt` as a matter of convention. Since we are calling the `plot` function, in the library of `pyplot` functions, we need to prepend the library name (imported as `plt`) to the function with a dot, so we call `plt.plot()`, not `plot()`. \n"
   ]
  },
  {
   "cell_type": "markdown",
   "id": "7eece058",
   "metadata": {
    "slideshow": {
     "slide_type": "subslide"
    }
   },
   "source": [
    "### Exercise 1: Plot a Lineplot with Matplotlib"
   ]
  },
  {
   "cell_type": "markdown",
   "id": "c2ad6a73",
   "metadata": {
    "slideshow": {
     "slide_type": "fragment"
    }
   },
   "source": [
    "<div class=\"alert alert-block alert-success\"><b>Exercise 1:</b> Plot your <code>x_values</code> and <code>y_values</code> using the <code>plt.pyplot(x,y)</code> function.</div>"
   ]
  },
  {
   "cell_type": "code",
   "execution_count": null,
   "id": "3fdea621",
   "metadata": {
    "slideshow": {
     "slide_type": "subslide"
    }
   },
   "outputs": [],
   "source": [
    "# Exercise 1 Code"
   ]
  },
  {
   "cell_type": "markdown",
   "id": "73a417c5",
   "metadata": {
    "slideshow": {
     "slide_type": "slide"
    }
   },
   "source": [
    "## Meet the Penguins!\n",
    "We will be using the Palmer Penguins datatset for today's visualization exercises. Data were collected and made available by [Dr. Kristen Gorman](https://www.uaf.edu/cfos/people/faculty/detail/kristen-gorman.php) and the [Palmer Station, Antarctica LTER](https://pal.lternet.edu/), a member of the [Long Term Ecological Research Network](https://lternet.edu/). "
   ]
  },
  {
   "cell_type": "markdown",
   "id": "cc8a8c45",
   "metadata": {
    "slideshow": {
     "slide_type": "subslide"
    }
   },
   "source": [
    "We will use the library `pandas` to load the data into data dataframe. First, load `pandas`:"
   ]
  },
  {
   "cell_type": "code",
   "execution_count": 4,
   "id": "objective-instruction",
   "metadata": {
    "slideshow": {
     "slide_type": "fragment"
    }
   },
   "outputs": [],
   "source": [
    "import pandas as pd"
   ]
  },
  {
   "cell_type": "markdown",
   "id": "34864ab2",
   "metadata": {
    "slideshow": {
     "slide_type": "fragment"
    }
   },
   "source": [
    "Then read in the `penguins.csv` from the `/Data` folder:"
   ]
  },
  {
   "cell_type": "code",
   "execution_count": 5,
   "id": "64b13c0e",
   "metadata": {
    "slideshow": {
     "slide_type": "fragment"
    }
   },
   "outputs": [],
   "source": [
    "penguins = pd.read_csv(\"../Data/palmerpenguins.csv\")"
   ]
  },
  {
   "cell_type": "markdown",
   "id": "metric-glossary",
   "metadata": {
    "slideshow": {
     "slide_type": "subslide"
    }
   },
   "source": [
    "The dataset `penguins` contains data for 344 penguins. There are 3 different species of penguins in this dataset, collected from 3 islands in the Palmer Archipelago, Antarctica."
   ]
  },
  {
   "cell_type": "markdown",
   "id": "8abb913e",
   "metadata": {
    "slideshow": {
     "slide_type": "fragment"
    }
   },
   "source": [
    "<img src=\"https://camo.githubusercontent.com/1d187452ac3929cfde8f5760b79f37cc117c1a332227d37a8c50db50d3db632a/68747470733a2f2f616c6c69736f6e686f7273742e6769746875622e696f2f70616c6d657270656e6775696e732f7265666572656e63652f666967757265732f6c7465725f70656e6775696e732e706e67\" alt=\"Palmer Penguins\" width=\"500\" />"
   ]
  },
  {
   "cell_type": "markdown",
   "id": "vietnamese-efficiency",
   "metadata": {
    "slideshow": {
     "slide_type": "subslide"
    }
   },
   "source": [
    "Lets explore the contents of the dataset:"
   ]
  },
  {
   "cell_type": "code",
   "execution_count": 2,
   "id": "79cb3994",
   "metadata": {
    "slideshow": {
     "slide_type": "fragment"
    }
   },
   "outputs": [],
   "source": [
    "# Dataset exploration"
   ]
  },
  {
   "cell_type": "markdown",
   "id": "rough-imagination",
   "metadata": {
    "slideshow": {
     "slide_type": "subslide"
    }
   },
   "source": [
    "### Now let's look at some penguin characteristics:\n",
    "\n",
    "<img src=\"https://allisonhorst.github.io/palmerpenguins/reference/figures/culmen_depth.png\" alt=\"Bill diagram\" width=\"500\">"
   ]
  },
  {
   "cell_type": "markdown",
   "id": "sweet-orbit",
   "metadata": {
    "slideshow": {
     "slide_type": "subslide"
    }
   },
   "source": [
    "### Let's make a scatter plot comparing bill length to bill depth\n",
    "Let's begin by selecting two variables for visualizing, in this case **bill length** and **bill depth**.\n",
    "\n",
    "We can retrieve the **bill length** by selecting that column of the `penguins` dataframe:\n",
    "`penguins['bill_length_mm']`. \n",
    "\n",
    "Let's take a look at the contents of the `penguins['bill_length_mm']` column:"
   ]
  },
  {
   "cell_type": "code",
   "execution_count": 3,
   "id": "72d1d258",
   "metadata": {
    "slideshow": {
     "slide_type": "subslide"
    }
   },
   "outputs": [],
   "source": [
    "# Bill length"
   ]
  },
  {
   "cell_type": "markdown",
   "id": "3fd6e965",
   "metadata": {
    "slideshow": {
     "slide_type": "subslide"
    }
   },
   "source": [
    "Let's assign that column of data to a variable `bill_length`"
   ]
  },
  {
   "cell_type": "code",
   "execution_count": 4,
   "id": "worthy-attendance",
   "metadata": {
    "slideshow": {
     "slide_type": "fragment"
    }
   },
   "outputs": [],
   "source": [
    "# Assign bill length"
   ]
  },
  {
   "cell_type": "markdown",
   "id": "28da14b2",
   "metadata": {
    "slideshow": {
     "slide_type": "fragment"
    }
   },
   "source": [
    "We can do the same for **bill depth**:"
   ]
  },
  {
   "cell_type": "code",
   "execution_count": 5,
   "id": "b7590a86",
   "metadata": {
    "slideshow": {
     "slide_type": "fragment"
    }
   },
   "outputs": [],
   "source": [
    "# Assign bill depth"
   ]
  },
  {
   "cell_type": "markdown",
   "id": "0cfbc9d8",
   "metadata": {
    "slideshow": {
     "slide_type": "subslide"
    }
   },
   "source": [
    "### Exercise 2: Plot a Scatterplot Comparing Bill Length to Bill Depth"
   ]
  },
  {
   "cell_type": "markdown",
   "id": "69ce2a27",
   "metadata": {
    "slideshow": {
     "slide_type": "fragment"
    }
   },
   "source": [
    "<div class=\"alert alert-block alert-success\"><b>Exercise 2:</b> Plot the <b>bill length</b> on the x-axis and <b>bill depth</b> on the y-axis using the <code>plt.scatter(x,y)</code> function.</div>"
   ]
  },
  {
   "cell_type": "code",
   "execution_count": 6,
   "id": "b114d6bc",
   "metadata": {
    "slideshow": {
     "slide_type": "fragment"
    }
   },
   "outputs": [],
   "source": [
    "# Exercise 2 Result"
   ]
  },
  {
   "cell_type": "markdown",
   "id": "temporal-dream",
   "metadata": {
    "slideshow": {
     "slide_type": "skip"
    }
   },
   "source": [
    "Now let's add some axes labels:"
   ]
  },
  {
   "cell_type": "code",
   "execution_count": 7,
   "id": "atomic-provincial",
   "metadata": {
    "slideshow": {
     "slide_type": "skip"
    }
   },
   "outputs": [],
   "source": [
    "# Add axis labels"
   ]
  },
  {
   "cell_type": "markdown",
   "id": "rolled-remedy",
   "metadata": {
    "slideshow": {
     "slide_type": "skip"
    }
   },
   "source": [
    "Now lets make this a more publication friendly figure by removing the top and right border (or *spines* in matplotlib language). "
   ]
  },
  {
   "cell_type": "code",
   "execution_count": 8,
   "id": "beautiful-organ",
   "metadata": {
    "slideshow": {
     "slide_type": "skip"
    }
   },
   "outputs": [],
   "source": [
    "# Remove spines"
   ]
  },
  {
   "cell_type": "markdown",
   "id": "30500905",
   "metadata": {
    "slideshow": {
     "slide_type": "subslide"
    }
   },
   "source": [
    "### Exercise 4: Remove the Top and Right Spine from the Scatterplot"
   ]
  },
  {
   "cell_type": "markdown",
   "id": "530973c7",
   "metadata": {
    "slideshow": {
     "slide_type": "fragment"
    }
   },
   "source": [
    "<div class=\"alert alert-block alert-success\"><b>Exercise 4:</b> Using the syntax <code>plt.gca().spines['location'].set_visible(False)</code> remove the <b>top</b> and <b>right</b> spines.</div>"
   ]
  },
  {
   "cell_type": "code",
   "execution_count": 11,
   "id": "fa7f3542",
   "metadata": {
    "slideshow": {
     "slide_type": "skip"
    }
   },
   "outputs": [],
   "source": [
    "# Exercise 4 Result"
   ]
  },
  {
   "cell_type": "markdown",
   "id": "703e402f",
   "metadata": {
    "slideshow": {
     "slide_type": "subslide"
    }
   },
   "source": [
    "### Exercise 5: Practice Creating a Scatterplot"
   ]
  },
  {
   "cell_type": "markdown",
   "id": "ec8ccada",
   "metadata": {
    "slideshow": {
     "slide_type": "fragment"
    }
   },
   "source": [
    "<div class=\"alert alert-block alert-success\"><b>Exercise 5:</b> Create a scatter plot that compares <b>body mass</b> on the x-axis to <b>bill length</b> on the y-axis. </div>"
   ]
  },
  {
   "cell_type": "code",
   "execution_count": 13,
   "id": "criminal-dictionary",
   "metadata": {
    "scrolled": false,
    "slideshow": {
     "slide_type": "skip"
    }
   },
   "outputs": [],
   "source": [
    "# Exercise 5 Result"
   ]
  },
  {
   "cell_type": "markdown",
   "id": "bizarre-ticket",
   "metadata": {
    "slideshow": {
     "slide_type": "subslide"
    }
   },
   "source": [
    "When we called the `plt.plot` function, and later the `plt.scatter` function, a couple of things were happening in the background: \n",
    "\n",
    "- matplotlib created a **figure** instance; the figure is a container which holds everything you see. \n",
    "- matplotlib created an **axes** instance; the axes are the part of the figure that holds the data. This is the \"canvas\" on which we will paint with our data.\n",
    "\n",
    "These two pieces make up our matplotlib figures:"
   ]
  },
  {
   "cell_type": "markdown",
   "id": "imposed-glass",
   "metadata": {
    "slideshow": {
     "slide_type": "subslide"
    }
   },
   "source": [
    "<img src=\"https://matplotlib.org/stable/_images/anatomy.png\" alt=\"matplotlib fig anatomy\" width=\"600\">"
   ]
  },
  {
   "cell_type": "markdown",
   "id": "d7a9edda",
   "metadata": {
    "slideshow": {
     "slide_type": "skip"
    }
   },
   "source": [
    "Image Source: https://matplotlib.org/stable/_images/anatomy.png"
   ]
  },
  {
   "cell_type": "markdown",
   "id": "outer-herald",
   "metadata": {
    "slideshow": {
     "slide_type": "fragment"
    }
   },
   "source": [
    "The **figure** object (`fig`) is a container which holds everything you see. This is the top level container for all other elements that make up the graphic."
   ]
  },
  {
   "cell_type": "markdown",
   "id": "1c6ed3b2",
   "metadata": {
    "slideshow": {
     "slide_type": "fragment"
    }
   },
   "source": [
    "The blue elements are called **artists**. The Figure object can be thought of as a canvas, upon which different artists act to create the final graphic image. "
   ]
  },
  {
   "cell_type": "markdown",
   "id": "d1daff57",
   "metadata": {
    "slideshow": {
     "slide_type": "fragment"
    }
   },
   "source": [
    "Each plot we see in a figure is an **axes** object. We can have one **figure** (container) but multiple **axes** (plots)."
   ]
  },
  {
   "cell_type": "code",
   "execution_count": 15,
   "id": "reflected-internet",
   "metadata": {
    "slideshow": {
     "slide_type": "subslide"
    }
   },
   "outputs": [],
   "source": [
    "# Show Figure"
   ]
  },
  {
   "cell_type": "markdown",
   "id": "missing-vocabulary",
   "metadata": {
    "slideshow": {
     "slide_type": "fragment"
    }
   },
   "source": [
    "Notice that when we run this plot, nothing is actually produced. This is because we haven't put anything into our container yet! "
   ]
  },
  {
   "cell_type": "markdown",
   "id": "geological-student",
   "metadata": {
    "slideshow": {
     "slide_type": "subslide"
    }
   },
   "source": [
    "The **axes** (`ax`) is the part of the figure that holds the data. This is the \"canvas\" on which we will paint with our data."
   ]
  },
  {
   "cell_type": "code",
   "execution_count": 16,
   "id": "amended-celtic",
   "metadata": {
    "slideshow": {
     "slide_type": "fragment"
    }
   },
   "outputs": [],
   "source": [
    "# Show Axes"
   ]
  },
  {
   "cell_type": "markdown",
   "id": "acquired-advocacy",
   "metadata": {
    "slideshow": {
     "slide_type": "fragment"
    }
   },
   "source": [
    "Now our plot shows up! We don't have any data yet, so our canvas is blank right now. We used `plt.subplots` which will allow us to return multiple axes for a single figure. By default only one axes is displayed, although we can specify more:"
   ]
  },
  {
   "cell_type": "code",
   "execution_count": 17,
   "id": "duplicate-chick",
   "metadata": {
    "slideshow": {
     "slide_type": "subslide"
    }
   },
   "outputs": [],
   "source": [
    "# Multiple Axes"
   ]
  },
  {
   "cell_type": "markdown",
   "id": "dc4c68b2",
   "metadata": {},
   "source": [
    "### Matplotlib Object Oriented Interface"
   ]
  },
  {
   "cell_type": "markdown",
   "id": "right-utility",
   "metadata": {
    "slideshow": {
     "slide_type": "subslide"
    }
   },
   "source": [
    "Now, let's re-build our plot with the Object Oriented API."
   ]
  },
  {
   "cell_type": "code",
   "execution_count": 18,
   "id": "canadian-length",
   "metadata": {
    "slideshow": {
     "slide_type": "subslide"
    }
   },
   "outputs": [],
   "source": [
    "# Rebuild our scatterplot using the Object Oriented API"
   ]
  },
  {
   "cell_type": "markdown",
   "id": "66e69a70",
   "metadata": {
    "slideshow": {
     "slide_type": "fragment"
    }
   },
   "source": [
    "This just seems like a more confusing way of creating the same plot. Why would we want to do this?"
   ]
  },
  {
   "cell_type": "markdown",
   "id": "9b194358",
   "metadata": {
    "slideshow": {
     "slide_type": "fragment"
    }
   },
   "source": [
    "We can actually plot multiple axes. We are already comparing **Body Mass** on the x-axis and **Bill Length** on the y-axis.\n",
    "Lets add another y-axis with **Bill Depth** as well!"
   ]
  },
  {
   "cell_type": "code",
   "execution_count": 19,
   "id": "a3689a0a",
   "metadata": {
    "slideshow": {
     "slide_type": "subslide"
    }
   },
   "outputs": [],
   "source": [
    "# Plot with multiple axes"
   ]
  },
  {
   "cell_type": "markdown",
   "id": "5a218afd",
   "metadata": {},
   "source": [
    " That is a little difficult to read, let's add some transparency, otherwise known as `alpha`."
   ]
  },
  {
   "cell_type": "code",
   "execution_count": 20,
   "id": "af66c780",
   "metadata": {
    "slideshow": {
     "slide_type": "subslide"
    }
   },
   "outputs": [],
   "source": [
    "# Add transparency"
   ]
  },
  {
   "cell_type": "markdown",
   "id": "ab2e95b4",
   "metadata": {
    "slideshow": {
     "slide_type": "slide"
    }
   },
   "source": [
    "## Introduction to Seaborn"
   ]
  },
  {
   "cell_type": "markdown",
   "id": "9282f530",
   "metadata": {
    "slideshow": {
     "slide_type": "fragment"
    }
   },
   "source": [
    "`Seaborn` is a Python data visualization library that extends the `Matplotlib` library and provides a high-level interface for plotting statistical graphics with attractive default settings."
   ]
  },
  {
   "cell_type": "markdown",
   "id": "d69bc491",
   "metadata": {
    "slideshow": {
     "slide_type": "fragment"
    }
   },
   "source": [
    "<img src=\"https://camo.githubusercontent.com/03fc087cdb5874584b09518e5acbd74abea968ff677c0359247ba853f2b57a91/68747470733a2f2f6d69726f2e6d656469756d2e636f6d2f6d61782f313033302f312a3356674377635a726141307535684d487052684a63772e706e67\" alt=\"Seaborn example plots\">"
   ]
  },
  {
   "cell_type": "markdown",
   "id": "15877bbf",
   "metadata": {
    "slideshow": {
     "slide_type": "subslide"
    }
   },
   "source": [
    "### Seaborn Plot Types\n",
    "![Seaborn Plot Types](https://seaborn.pydata.org/_images/function_overview_8_0.png)"
   ]
  },
  {
   "cell_type": "markdown",
   "id": "f6614aae",
   "metadata": {
    "slideshow": {
     "slide_type": "subslide"
    }
   },
   "source": [
    "### Seaborn Scatterplot"
   ]
  },
  {
   "cell_type": "markdown",
   "id": "510f9997",
   "metadata": {
    "slideshow": {
     "slide_type": "fragment"
    }
   },
   "source": [
    "Recreate a scatter plot that compares `body mass` on the x-axis to `bill length` on the y-axis using `seaborn`.\n",
    "\n",
    "We will want to:\n",
    "* Add axis labels\n",
    "* Scale the font size to make it more readable\n",
    "* Remove the extraneous spines"
   ]
  },
  {
   "cell_type": "code",
   "execution_count": 21,
   "id": "1715d2c2",
   "metadata": {},
   "outputs": [],
   "source": [
    "# Recreate a scatterplot using seaborn"
   ]
  },
  {
   "cell_type": "markdown",
   "id": "01351b24",
   "metadata": {},
   "source": [
    "Add axis labels:"
   ]
  },
  {
   "cell_type": "code",
   "execution_count": 22,
   "id": "6201da09",
   "metadata": {},
   "outputs": [],
   "source": [
    "# Add axis labels"
   ]
  },
  {
   "cell_type": "markdown",
   "id": "d9688251",
   "metadata": {},
   "source": [
    "Scale the font size"
   ]
  },
  {
   "cell_type": "code",
   "execution_count": 23,
   "id": "2a772c07",
   "metadata": {},
   "outputs": [],
   "source": [
    "# Scale fontsize"
   ]
  },
  {
   "cell_type": "markdown",
   "id": "875a99c1",
   "metadata": {},
   "source": [
    "Remove the spines"
   ]
  },
  {
   "cell_type": "code",
   "execution_count": 24,
   "id": "97c98119",
   "metadata": {},
   "outputs": [],
   "source": [
    "# Remove spines"
   ]
  },
  {
   "cell_type": "markdown",
   "id": "c25af979",
   "metadata": {},
   "source": [
    "### Color by species\n",
    "Now that we have a similar plot to that from our `Matplotlib` section, lets also add color, by species:"
   ]
  },
  {
   "cell_type": "code",
   "execution_count": 25,
   "id": "473a50e4",
   "metadata": {},
   "outputs": [],
   "source": [
    "# Color by Species"
   ]
  },
  {
   "cell_type": "markdown",
   "id": "1ec56919",
   "metadata": {},
   "source": [
    "### Seaborn Regression Plot"
   ]
  },
  {
   "cell_type": "code",
   "execution_count": 26,
   "id": "6ac3f185",
   "metadata": {},
   "outputs": [],
   "source": [
    "# Plot regression plot"
   ]
  },
  {
   "cell_type": "markdown",
   "id": "4bac7540",
   "metadata": {},
   "source": [
    "### Seaborn Joint Plot"
   ]
  },
  {
   "cell_type": "code",
   "execution_count": 27,
   "id": "64cde47d",
   "metadata": {},
   "outputs": [],
   "source": [
    " # Plot joint plot"
   ]
  }
 ],
 "metadata": {
  "celltoolbar": "Slideshow",
  "kernelspec": {
   "display_name": "Python [conda env:py-vis-workshop]",
   "language": "python",
   "name": "conda-env-py-vis-workshop-py"
  },
  "language_info": {
   "codemirror_mode": {
    "name": "ipython",
    "version": 3
   },
   "file_extension": ".py",
   "mimetype": "text/x-python",
   "name": "python",
   "nbconvert_exporter": "python",
   "pygments_lexer": "ipython3",
   "version": "3.9.5"
  }
 },
 "nbformat": 4,
 "nbformat_minor": 5
}
